{
 "cells": [
  {
   "cell_type": "code",
   "execution_count": 1,
   "id": "a615c1e7",
   "metadata": {},
   "outputs": [
    {
     "name": "stdout",
     "output_type": "stream",
     "text": [
      "45\n",
      "450\n",
      "10.0\n",
      "5\n",
      "3375\n"
     ]
    }
   ],
   "source": [
    "a = 15\n",
    "b = 30\n",
    "c = 3\n",
    "\n",
    "print(a+b)\n",
    "print(a*b)\n",
    "print(b/c)\n",
    "print(a//c)\n",
    "print(a**c)"
   ]
  },
  {
   "cell_type": "code",
   "execution_count": 3,
   "id": "786a7287",
   "metadata": {},
   "outputs": [
    {
     "name": "stdout",
     "output_type": "stream",
     "text": [
      "5\n",
      "6\n",
      "11\n",
      "0.8333333333333334\n"
     ]
    }
   ],
   "source": [
    "d = int(input())\n",
    "e = int(input())\n",
    "\n",
    "print(d+e)\n",
    "print(d/e)\n"
   ]
  },
  {
   "cell_type": "code",
   "execution_count": 4,
   "id": "1938bed1",
   "metadata": {},
   "outputs": [
    {
     "data": {
      "text/plain": [
       "(9+5j)"
      ]
     },
     "execution_count": 4,
     "metadata": {},
     "output_type": "execute_result"
    }
   ],
   "source": [
    "a = 5 + 3j\n",
    "b = 4+2j\n",
    "a+b"
   ]
  },
  {
   "cell_type": "markdown",
   "id": "dfd75e09",
   "metadata": {},
   "source": [
    "# WORKING WITH STRINGS"
   ]
  },
  {
   "cell_type": "code",
   "execution_count": 37,
   "id": "b9acfa9a",
   "metadata": {},
   "outputs": [
    {
     "name": "stdout",
     "output_type": "stream",
     "text": [
      "Thriller is the sixth studio album by the American singer Michael Jackson, released on November 30, 1982 by Epic Records. It is the follow-up to Jackson's critically and commercially successful fifth\n",
      "studio album Off the Wall (1979). Thriller explores genres similar to those of Off the Wall, including pop, post-disco, rock and funk. Recording sessions for Thriller took place from April to November 1982\n",
      "at Westlake Recording Studios in Los Angeles, California with a production budget of $750,000 \n"
     ]
    }
   ],
   "source": [
    "a = open(\"thriller.txt\")\n",
    "b = a.read()\n",
    "print (b)"
   ]
  },
  {
   "cell_type": "code",
   "execution_count": 22,
   "id": "a802c2c9",
   "metadata": {},
   "outputs": [],
   "source": [
    "str = \"Thriller is the sixth studio album by the American singer Michael Jackson, released on November 30, 1982 by Epic Records. It is the follow-up to Jackson's critically and commercially successful fifthstudio album Off the Wall (1979). Thriller explores genres similar to those of Off the Wall, including pop, post-disco, rock and funk. Recording sessions for Thriller took place from April to November 1982at Westlake Recording Studios in Los Angeles, California with a production budget of $750,000  \""
   ]
  },
  {
   "cell_type": "code",
   "execution_count": 25,
   "id": "89d6dc1a",
   "metadata": {},
   "outputs": [
    {
     "data": {
      "text/plain": [
       "\"thriller is the sixth studio album by the american singer michael jackson, released on november 30, 1982 by epic records. it is the follow-up to jackson's critically and commercially successful fifthstudio album off the wall (1979). thriller explores genres similar to those of off the wall, including pop, post-disco, rock and funk. recording sessions for thriller took place from april to november 1982at westlake recording studios in los angeles, california with a production budget of $750,000  \""
      ]
     },
     "execution_count": 25,
     "metadata": {},
     "output_type": "execute_result"
    }
   ],
   "source": [
    "str.lower()"
   ]
  },
  {
   "cell_type": "code",
   "execution_count": 24,
   "id": "ff92200e",
   "metadata": {},
   "outputs": [
    {
     "data": {
      "text/plain": [
       "499"
      ]
     },
     "execution_count": 24,
     "metadata": {},
     "output_type": "execute_result"
    }
   ],
   "source": [
    "len(str)"
   ]
  },
  {
   "cell_type": "code",
   "execution_count": 26,
   "id": "61f5283a",
   "metadata": {},
   "outputs": [
    {
     "data": {
      "text/plain": [
       "\"THRILLER IS THE SIXTH STUDIO ALBUM BY THE AMERICAN SINGER MICHAEL JACKSON, RELEASED ON NOVEMBER 30, 1982 BY EPIC RECORDS. IT IS THE FOLLOW-UP TO JACKSON'S CRITICALLY AND COMMERCIALLY SUCCESSFUL FIFTHSTUDIO ALBUM OFF THE WALL (1979). THRILLER EXPLORES GENRES SIMILAR TO THOSE OF OFF THE WALL, INCLUDING POP, POST-DISCO, ROCK AND FUNK. RECORDING SESSIONS FOR THRILLER TOOK PLACE FROM APRIL TO NOVEMBER 1982AT WESTLAKE RECORDING STUDIOS IN LOS ANGELES, CALIFORNIA WITH A PRODUCTION BUDGET OF $750,000  \""
      ]
     },
     "execution_count": 26,
     "metadata": {},
     "output_type": "execute_result"
    }
   ],
   "source": [
    "str.upper()"
   ]
  },
  {
   "cell_type": "code",
   "execution_count": 27,
   "id": "68a0f09e",
   "metadata": {},
   "outputs": [
    {
     "data": {
      "text/plain": [
       "['Thriller',\n",
       " 'is',\n",
       " 'the',\n",
       " 'sixth',\n",
       " 'studio',\n",
       " 'album',\n",
       " 'by',\n",
       " 'the',\n",
       " 'American',\n",
       " 'singer',\n",
       " 'Michael',\n",
       " 'Jackson,',\n",
       " 'released',\n",
       " 'on',\n",
       " 'November',\n",
       " '30,',\n",
       " '1982',\n",
       " 'by',\n",
       " 'Epic',\n",
       " 'Records.',\n",
       " 'It',\n",
       " 'is',\n",
       " 'the',\n",
       " 'follow-up',\n",
       " 'to',\n",
       " \"Jackson's\",\n",
       " 'critically',\n",
       " 'and',\n",
       " 'commercially',\n",
       " 'successful',\n",
       " 'fifthstudio',\n",
       " 'album',\n",
       " 'Off',\n",
       " 'the',\n",
       " 'Wall',\n",
       " '(1979).',\n",
       " 'Thriller',\n",
       " 'explores',\n",
       " 'genres',\n",
       " 'similar',\n",
       " 'to',\n",
       " 'those',\n",
       " 'of',\n",
       " 'Off',\n",
       " 'the',\n",
       " 'Wall,',\n",
       " 'including',\n",
       " 'pop,',\n",
       " 'post-disco,',\n",
       " 'rock',\n",
       " 'and',\n",
       " 'funk.',\n",
       " 'Recording',\n",
       " 'sessions',\n",
       " 'for',\n",
       " 'Thriller',\n",
       " 'took',\n",
       " 'place',\n",
       " 'from',\n",
       " 'April',\n",
       " 'to',\n",
       " 'November',\n",
       " '1982at',\n",
       " 'Westlake',\n",
       " 'Recording',\n",
       " 'Studios',\n",
       " 'in',\n",
       " 'Los',\n",
       " 'Angeles,',\n",
       " 'California',\n",
       " 'with',\n",
       " 'a',\n",
       " 'production',\n",
       " 'budget',\n",
       " 'of',\n",
       " '$750,000',\n",
       " '',\n",
       " '']"
      ]
     },
     "execution_count": 27,
     "metadata": {},
     "output_type": "execute_result"
    }
   ],
   "source": [
    "str.split(\" \")\n"
   ]
  },
  {
   "cell_type": "code",
   "execution_count": 29,
   "id": "07526e2d",
   "metadata": {},
   "outputs": [
    {
     "data": {
      "text/plain": [
       "'Thriller'"
      ]
     },
     "execution_count": 29,
     "metadata": {},
     "output_type": "execute_result"
    }
   ],
   "source": [
    "str [0:8]"
   ]
  },
  {
   "cell_type": "code",
   "execution_count": 31,
   "id": "437574ba",
   "metadata": {},
   "outputs": [
    {
     "data": {
      "text/plain": [
       "'naamhsuyA'"
      ]
     },
     "execution_count": 31,
     "metadata": {},
     "output_type": "execute_result"
    }
   ],
   "source": [
    "s = \"Ayushmaan\" \n",
    "s[::-1]"
   ]
  },
  {
   "cell_type": "code",
   "execution_count": 34,
   "id": "bedb6d94",
   "metadata": {},
   "outputs": [
    {
     "name": "stdout",
     "output_type": "stream",
     "text": [
      "['', '', '$750,000', '(1979).', '1982', '1982at', '30,', 'American', 'Angeles,', 'April', 'California', 'Epic', 'It', \"Jackson's\", 'Jackson,', 'Los', 'Michael', 'November', 'November', 'Off', 'Off', 'Recording', 'Recording', 'Records.', 'Studios', 'Thriller', 'Thriller', 'Thriller', 'Wall', 'Wall,', 'Westlake', 'a', 'album', 'album', 'and', 'and', 'budget', 'by', 'by', 'commercially', 'critically', 'explores', 'fifthstudio', 'follow-up', 'for', 'from', 'funk.', 'genres', 'in', 'including', 'is', 'is', 'of', 'of', 'on', 'place', 'pop,', 'post-disco,', 'production', 'released', 'rock', 'sessions', 'similar', 'singer', 'sixth', 'studio', 'successful', 'the', 'the', 'the', 'the', 'the', 'those', 'to', 'to', 'to', 'took', 'with']\n"
     ]
    }
   ],
   "source": [
    "a = str.split(\" \")\n",
    "a.sort()\n",
    "print (a)"
   ]
  },
  {
   "cell_type": "code",
   "execution_count": null,
   "id": "8e971dad",
   "metadata": {},
   "outputs": [],
   "source": []
  },
  {
   "cell_type": "code",
   "execution_count": null,
   "id": "81ae4a85",
   "metadata": {},
   "outputs": [],
   "source": []
  }
 ],
 "metadata": {
  "kernelspec": {
   "display_name": "Python 3",
   "language": "python",
   "name": "python3"
  },
  "language_info": {
   "codemirror_mode": {
    "name": "ipython",
    "version": 3
   },
   "file_extension": ".py",
   "mimetype": "text/x-python",
   "name": "python",
   "nbconvert_exporter": "python",
   "pygments_lexer": "ipython3",
   "version": "3.9.4"
  }
 },
 "nbformat": 4,
 "nbformat_minor": 5
}
