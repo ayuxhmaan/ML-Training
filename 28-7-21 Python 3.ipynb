{
 "cells": [
  {
   "cell_type": "code",
   "execution_count": 1,
   "id": "204d4f2c",
   "metadata": {},
   "outputs": [
    {
     "data": {
      "text/plain": [
       "dict"
      ]
     },
     "execution_count": 1,
     "metadata": {},
     "output_type": "execute_result"
    }
   ],
   "source": [
    "d ={}\n",
    "type (d)"
   ]
  },
  {
   "cell_type": "code",
   "execution_count": 2,
   "id": "db1fe6ee",
   "metadata": {},
   "outputs": [
    {
     "data": {
      "text/plain": [
       "{23: 34.5}"
      ]
     },
     "execution_count": 2,
     "metadata": {},
     "output_type": "execute_result"
    }
   ],
   "source": [
    "d[23] = 34.5\n",
    "d"
   ]
  },
  {
   "cell_type": "code",
   "execution_count": null,
   "id": "d43afbf9",
   "metadata": {},
   "outputs": [],
   "source": []
  },
  {
   "cell_type": "code",
   "execution_count": null,
   "id": "63537a5f",
   "metadata": {},
   "outputs": [],
   "source": []
  },
  {
   "cell_type": "code",
   "execution_count": 3,
   "id": "8c8b237f",
   "metadata": {},
   "outputs": [
    {
     "data": {
      "text/plain": [
       "False"
      ]
     },
     "execution_count": 3,
     "metadata": {},
     "output_type": "execute_result"
    }
   ],
   "source": [
    "#Compare dictionary\n",
    "d1 = {}\n",
    "d1[2] = 1\n",
    "\n",
    "d2 = {}\n",
    "d2[2] = [2]\n",
    "\n",
    "d1==d2"
   ]
  },
  {
   "cell_type": "code",
   "execution_count": 4,
   "id": "380a669d",
   "metadata": {},
   "outputs": [
    {
     "data": {
      "text/plain": [
       "False"
      ]
     },
     "execution_count": 4,
     "metadata": {},
     "output_type": "execute_result"
    }
   ],
   "source": [
    "1 in d2 "
   ]
  },
  {
   "cell_type": "code",
   "execution_count": 5,
   "id": "4a0690b8",
   "metadata": {},
   "outputs": [
    {
     "data": {
      "text/plain": [
       "True"
      ]
     },
     "execution_count": 5,
     "metadata": {},
     "output_type": "execute_result"
    }
   ],
   "source": [
    "2 in d2"
   ]
  },
  {
   "cell_type": "code",
   "execution_count": null,
   "id": "b7757171",
   "metadata": {},
   "outputs": [],
   "source": []
  },
  {
   "cell_type": "code",
   "execution_count": 6,
   "id": "7738f4e7",
   "metadata": {},
   "outputs": [
    {
     "name": "stdout",
     "output_type": "stream",
     "text": [
      "40\n"
     ]
    }
   ],
   "source": [
    "a = 30\n",
    "b = 40\n",
    "c = 50\n",
    "\n",
    "if a>b:\n",
    "    print(a)\n",
    "else:\n",
    "    print(b)"
   ]
  },
  {
   "cell_type": "code",
   "execution_count": 7,
   "id": "236a3f35",
   "metadata": {},
   "outputs": [
    {
     "name": "stdout",
     "output_type": "stream",
     "text": [
      "3\n",
      "1\n",
      "2\n",
      "done\n"
     ]
    }
   ],
   "source": [
    "n = int(input())\n",
    "i =1 \n",
    "while i<n:\n",
    "    print(i)\n",
    "    i = i+1\n",
    "print(\"done\")    "
   ]
  },
  {
   "cell_type": "code",
   "execution_count": 8,
   "id": "5e568786",
   "metadata": {},
   "outputs": [
    {
     "name": "stdout",
     "output_type": "stream",
     "text": [
      "3\n",
      "1\n",
      "2\n",
      "3\n",
      "4\n"
     ]
    }
   ],
   "source": [
    "n = int(input())\n",
    "for i in range(1,5):\n",
    "    print(i)"
   ]
  },
  {
   "cell_type": "code",
   "execution_count": 9,
   "id": "5408078d",
   "metadata": {},
   "outputs": [
    {
     "name": "stdout",
     "output_type": "stream",
     "text": [
      "6\n",
      "not prime\n"
     ]
    }
   ],
   "source": [
    "# check Prime\n",
    "\n",
    "n = int(input())\n",
    "prime = True\n",
    "for i in range (2,n):\n",
    "    if(n%i == 0):\n",
    "        prime = False\n",
    "    \n",
    "if prime:\n",
    "     print(\"prime\")\n",
    "else:\n",
    "     print(\"not prime\")"
   ]
  },
  {
   "cell_type": "code",
   "execution_count": null,
   "id": "35ef0b89",
   "metadata": {},
   "outputs": [],
   "source": []
  },
  {
   "cell_type": "code",
   "execution_count": 10,
   "id": "177a16c3",
   "metadata": {},
   "outputs": [
    {
     "data": {
      "text/html": [
       "<div>\n",
       "<style scoped>\n",
       "    .dataframe tbody tr th:only-of-type {\n",
       "        vertical-align: middle;\n",
       "    }\n",
       "\n",
       "    .dataframe tbody tr th {\n",
       "        vertical-align: top;\n",
       "    }\n",
       "\n",
       "    .dataframe thead th {\n",
       "        text-align: right;\n",
       "    }\n",
       "</style>\n",
       "<table border=\"1\" class=\"dataframe\">\n",
       "  <thead>\n",
       "    <tr style=\"text-align: right;\">\n",
       "      <th></th>\n",
       "      <th>Albums</th>\n",
       "      <th>Length</th>\n",
       "      <th>Released</th>\n",
       "    </tr>\n",
       "  </thead>\n",
       "  <tbody>\n",
       "    <tr>\n",
       "      <th>0</th>\n",
       "      <td>Thriller</td>\n",
       "      <td>00:42:19</td>\n",
       "      <td>1982</td>\n",
       "    </tr>\n",
       "    <tr>\n",
       "      <th>1</th>\n",
       "      <td>back in black</td>\n",
       "      <td>00:42:11</td>\n",
       "      <td>1987</td>\n",
       "    </tr>\n",
       "    <tr>\n",
       "      <th>2</th>\n",
       "      <td>dark side</td>\n",
       "      <td>00:41:00</td>\n",
       "      <td>1992</td>\n",
       "    </tr>\n",
       "    <tr>\n",
       "      <th>3</th>\n",
       "      <td>body guard</td>\n",
       "      <td>00:66:01</td>\n",
       "      <td>1997</td>\n",
       "    </tr>\n",
       "  </tbody>\n",
       "</table>\n",
       "</div>"
      ],
      "text/plain": [
       "          Albums    Length Released\n",
       "0       Thriller  00:42:19     1982\n",
       "1  back in black  00:42:11     1987\n",
       "2      dark side  00:41:00     1992\n",
       "3     body guard  00:66:01     1997"
      ]
     },
     "execution_count": 10,
     "metadata": {},
     "output_type": "execute_result"
    }
   ],
   "source": [
    "# Dictionary To DataFrame\n",
    "import pandas as pd\n",
    "\n",
    "a = {'Albums': ['Thriller','back in black','dark side','body guard'],\\\n",
    "    'Length': [ '00:42:19','00:42:11','00:41:00','00:66:01'],\\\n",
    "    'Released': ['1982','1987','1992','1997']}\n",
    "     \n",
    "df = pd.DataFrame(a)\n",
    "df"
   ]
  },
  {
   "cell_type": "code",
   "execution_count": 11,
   "id": "574f49db",
   "metadata": {},
   "outputs": [
    {
     "data": {
      "text/plain": [
       "Albums      object\n",
       "Length      object\n",
       "Released    object\n",
       "dtype: object"
      ]
     },
     "execution_count": 11,
     "metadata": {},
     "output_type": "execute_result"
    }
   ],
   "source": [
    "df.dtypes"
   ]
  },
  {
   "cell_type": "code",
   "execution_count": 12,
   "id": "06970cce",
   "metadata": {},
   "outputs": [
    {
     "data": {
      "text/plain": [
       "0    1982\n",
       "1    1987\n",
       "2    1992\n",
       "3    1997\n",
       "Name: Released, dtype: object"
      ]
     },
     "execution_count": 12,
     "metadata": {},
     "output_type": "execute_result"
    }
   ],
   "source": [
    "df['Released']"
   ]
  },
  {
   "cell_type": "code",
   "execution_count": 13,
   "id": "2087635b",
   "metadata": {},
   "outputs": [
    {
     "data": {
      "text/html": [
       "<div>\n",
       "<style scoped>\n",
       "    .dataframe tbody tr th:only-of-type {\n",
       "        vertical-align: middle;\n",
       "    }\n",
       "\n",
       "    .dataframe tbody tr th {\n",
       "        vertical-align: top;\n",
       "    }\n",
       "\n",
       "    .dataframe thead th {\n",
       "        text-align: right;\n",
       "    }\n",
       "</style>\n",
       "<table border=\"1\" class=\"dataframe\">\n",
       "  <thead>\n",
       "    <tr style=\"text-align: right;\">\n",
       "      <th></th>\n",
       "      <th>Albums</th>\n",
       "      <th>Length</th>\n",
       "      <th>Released</th>\n",
       "    </tr>\n",
       "  </thead>\n",
       "  <tbody>\n",
       "    <tr>\n",
       "      <th>0</th>\n",
       "      <td>Thriller</td>\n",
       "      <td>00:42:19</td>\n",
       "      <td>1982</td>\n",
       "    </tr>\n",
       "  </tbody>\n",
       "</table>\n",
       "</div>"
      ],
      "text/plain": [
       "     Albums    Length Released\n",
       "0  Thriller  00:42:19     1982"
      ]
     },
     "execution_count": 13,
     "metadata": {},
     "output_type": "execute_result"
    }
   ],
   "source": [
    "df[:1]"
   ]
  },
  {
   "cell_type": "code",
   "execution_count": 14,
   "id": "f3c06e0b",
   "metadata": {},
   "outputs": [
    {
     "data": {
      "text/html": [
       "<div>\n",
       "<style scoped>\n",
       "    .dataframe tbody tr th:only-of-type {\n",
       "        vertical-align: middle;\n",
       "    }\n",
       "\n",
       "    .dataframe tbody tr th {\n",
       "        vertical-align: top;\n",
       "    }\n",
       "\n",
       "    .dataframe thead th {\n",
       "        text-align: right;\n",
       "    }\n",
       "</style>\n",
       "<table border=\"1\" class=\"dataframe\">\n",
       "  <thead>\n",
       "    <tr style=\"text-align: right;\">\n",
       "      <th></th>\n",
       "      <th>Albums</th>\n",
       "      <th>Length</th>\n",
       "      <th>Released</th>\n",
       "    </tr>\n",
       "  </thead>\n",
       "  <tbody>\n",
       "    <tr>\n",
       "      <th>0</th>\n",
       "      <td>Thriller</td>\n",
       "      <td>00:42:19</td>\n",
       "      <td>1982</td>\n",
       "    </tr>\n",
       "    <tr>\n",
       "      <th>1</th>\n",
       "      <td>back in black</td>\n",
       "      <td>00:42:11</td>\n",
       "      <td>1987</td>\n",
       "    </tr>\n",
       "    <tr>\n",
       "      <th>2</th>\n",
       "      <td>dark side</td>\n",
       "      <td>00:41:00</td>\n",
       "      <td>1992</td>\n",
       "    </tr>\n",
       "    <tr>\n",
       "      <th>3</th>\n",
       "      <td>body guard</td>\n",
       "      <td>00:66:01</td>\n",
       "      <td>1997</td>\n",
       "    </tr>\n",
       "  </tbody>\n",
       "</table>\n",
       "</div>"
      ],
      "text/plain": [
       "          Albums    Length Released\n",
       "0       Thriller  00:42:19     1982\n",
       "1  back in black  00:42:11     1987\n",
       "2      dark side  00:41:00     1992\n",
       "3     body guard  00:66:01     1997"
      ]
     },
     "execution_count": 14,
     "metadata": {},
     "output_type": "execute_result"
    }
   ],
   "source": [
    "df.head()"
   ]
  },
  {
   "cell_type": "code",
   "execution_count": 15,
   "id": "298054b0",
   "metadata": {},
   "outputs": [
    {
     "data": {
      "text/plain": [
       "1    back in black\n",
       "2        dark side\n",
       "3       body guard\n",
       "Name: Albums, dtype: object"
      ]
     },
     "execution_count": 15,
     "metadata": {},
     "output_type": "execute_result"
    }
   ],
   "source": [
    "df['Albums'][1:4]"
   ]
  },
  {
   "cell_type": "code",
   "execution_count": 16,
   "id": "6f532fbb",
   "metadata": {},
   "outputs": [
    {
     "name": "stdout",
     "output_type": "stream",
     "text": [
      "4\n",
      "2\n",
      "6\n",
      "2\n"
     ]
    }
   ],
   "source": [
    "def sum(a,b):\n",
    "    c = a+b\n",
    "    return c\n",
    "\n",
    "def sub(a,b):\n",
    "    c = a-b\n",
    "    return c\n",
    "\n",
    "a = int(input())\n",
    "b = int(input())\n",
    "\n",
    "print(sum(a,b))\n",
    "print(sub(a,b))"
   ]
  },
  {
   "cell_type": "code",
   "execution_count": 17,
   "id": "acab08b7",
   "metadata": {},
   "outputs": [
    {
     "name": "stdout",
     "output_type": "stream",
     "text": [
      "3\n",
      "6\n",
      "0.5\n",
      "9\n"
     ]
    }
   ],
   "source": [
    "def divide(a,b):\n",
    "    c = a/b\n",
    "    return c\n",
    "\n",
    "def square(a):\n",
    "    return a**2\n",
    "\n",
    "a = int(input())\n",
    "b = int(input())\n",
    "\n",
    "print(divide(a,b))\n",
    "print(square(a))"
   ]
  },
  {
   "cell_type": "code",
   "execution_count": null,
   "id": "c3d1bac9",
   "metadata": {},
   "outputs": [],
   "source": []
  },
  {
   "cell_type": "code",
   "execution_count": null,
   "id": "7035fda0",
   "metadata": {},
   "outputs": [],
   "source": []
  },
  {
   "cell_type": "code",
   "execution_count": null,
   "id": "32efb253",
   "metadata": {},
   "outputs": [],
   "source": []
  },
  {
   "cell_type": "code",
   "execution_count": 18,
   "id": "95e533da",
   "metadata": {},
   "outputs": [
    {
     "name": "stdout",
     "output_type": "stream",
     "text": [
      "5\n",
      "5 * 1 = 5\n",
      "5 * 2 = 10\n",
      "5 * 3 = 15\n",
      "5 * 4 = 20\n",
      "5 * 5 = 25\n",
      "5 * 6 = 30\n",
      "5 * 7 = 35\n",
      "5 * 8 = 40\n",
      "5 * 9 = 45\n",
      "5 * 10 = 50\n"
     ]
    }
   ],
   "source": [
    "def table(x):\n",
    "    for i in range(1,11):\n",
    "            val = x*i\n",
    "            print(x,\"*\",i,\"=\",val)\n",
    "x = int(input())\n",
    "table(x)"
   ]
  },
  {
   "cell_type": "code",
   "execution_count": null,
   "id": "b833308a",
   "metadata": {},
   "outputs": [],
   "source": []
  },
  {
   "cell_type": "code",
   "execution_count": null,
   "id": "0ae316e2",
   "metadata": {},
   "outputs": [],
   "source": [
    "def area(a):\n",
    "    ar = 2*3.14*r\n",
    "    return ar\n",
    "def cir(r):\n",
    "    cc = 3.14*r*r\n",
    "    return cc\n",
    "a= int(\"Radius\"input())\n",
    "b = ar(a)\n",
    "print(\"area\",b)\n",
    "\n",
    "c = int(\"\\nradius\"input())\n",
    "d= c(cc)"
   ]
  },
  {
   "cell_type": "code",
   "execution_count": null,
   "id": "ba3ad6e5",
   "metadata": {},
   "outputs": [],
   "source": []
  },
  {
   "cell_type": "code",
   "execution_count": null,
   "id": "37210e0c",
   "metadata": {},
   "outputs": [],
   "source": []
  },
  {
   "cell_type": "code",
   "execution_count": null,
   "id": "40e0de31",
   "metadata": {},
   "outputs": [],
   "source": [
    "def fib(n):\n",
    "    a =0\n",
    "    b=1\n",
    "    print(\"Fib series\\n\")\n",
    "    for i in range(n):\n",
    "        print(b, end=',')\n",
    "        z=b\n",
    "        b=b+a\n",
    "        a=z\n",
    "        \n",
    "n = int(input(\"Enter number\"))\n",
    "fib(n)"
   ]
  },
  {
   "cell_type": "code",
   "execution_count": null,
   "id": "a4fbd049",
   "metadata": {},
   "outputs": [],
   "source": []
  },
  {
   "cell_type": "code",
   "execution_count": null,
   "id": "58d97f24",
   "metadata": {},
   "outputs": [],
   "source": []
  },
  {
   "cell_type": "code",
   "execution_count": null,
   "id": "1a4dfa42",
   "metadata": {},
   "outputs": [],
   "source": []
  },
  {
   "cell_type": "code",
   "execution_count": null,
   "id": "64f2a870",
   "metadata": {},
   "outputs": [],
   "source": []
  }
 ],
 "metadata": {
  "kernelspec": {
   "display_name": "Python 3",
   "language": "python",
   "name": "python3"
  },
  "language_info": {
   "codemirror_mode": {
    "name": "ipython",
    "version": 3
   },
   "file_extension": ".py",
   "mimetype": "text/x-python",
   "name": "python",
   "nbconvert_exporter": "python",
   "pygments_lexer": "ipython3",
   "version": "3.9.4"
  }
 },
 "nbformat": 4,
 "nbformat_minor": 5
}
